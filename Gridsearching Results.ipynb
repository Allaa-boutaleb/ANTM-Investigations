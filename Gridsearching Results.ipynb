{
 "cells": [
  {
   "cell_type": "code",
   "execution_count": 47,
   "outputs": [],
   "source": [
    "import ast\n",
    "import pandas as pd\n",
    "import numpy as np\n",
    "\n",
    "def link_parameters_results(params_file,results_file) :\n",
    "\n",
    "    ## Loading parameter combinations\n",
    "    with open(params_file, 'r') as file:\n",
    "        lines = file.readlines()\n",
    "\n",
    "    param_id_list = []\n",
    "    overlap_list = []\n",
    "    window_length_list = []\n",
    "    umap_dimension_size_list = []\n",
    "    umap_n_neighbors_list = []\n",
    "    partioned_clustering_size_list = []\n",
    "\n",
    "    for line in lines:\n",
    "        p = line.strip().split(\",\")\n",
    "        param_id_list.append(int(p[0]))\n",
    "        overlap_list.append(int(p[1]))\n",
    "        window_length_list.append(int(p[2]))\n",
    "        umap_dimension_size_list.append(int(p[3]))\n",
    "        umap_n_neighbors_list.append(int(p[4]))\n",
    "        partioned_clustering_size_list.append(int(p[5]))\n",
    "\n",
    "    result_id_list = []\n",
    "    jaccard_list = []\n",
    "    puw_list = []\n",
    "    topic_coherence_list = []\n",
    "\n",
    "    ## Cluster info lists\n",
    "    num_clusters_list = []\n",
    "    number_of_outliers_list = []\n",
    "    number_of_ones_list = []\n",
    "    average_probabilities_list = []\n",
    "    period_cluster_sizes_list = []\n",
    "\n",
    "    ## Loading corresponding results\n",
    "    # open file and read lines\n",
    "    with open(results_file, \"r\") as file:\n",
    "        text = file.read()\n",
    "\n",
    "    # split lines based on double newline\n",
    "    results = text.strip().split(\"\\n\\n\")\n",
    "\n",
    "    for line in results :\n",
    "        p = line.split(\"$\")\n",
    "        result_id_list.append(int(p[0]))\n",
    "        jaccard_list.append(ast.literal_eval(p[1]))\n",
    "        puw_list.append(ast.literal_eval(p[2]))\n",
    "        topic_coherence_list.append(ast.literal_eval(p[3]))\n",
    "        cluster_info = ast.literal_eval(p[4])\n",
    "        num_clusters_list.append(cluster_info[0])\n",
    "        number_of_outliers_list.append(cluster_info[1])\n",
    "        number_of_ones_list.append(cluster_info[2])\n",
    "        average_probabilities_list.append(cluster_info[3])\n",
    "        period_cluster_sizes_list.append(cluster_info[4])\n",
    "\n",
    "\n",
    "    ## Parameters\n",
    "    overlap = [overlap_list[i] for i in result_id_list]\n",
    "    window_length = [window_length_list[i] for i in result_id_list]\n",
    "    umap_dimension_size = [umap_dimension_size_list[i] for i in result_id_list]\n",
    "    umap_n_neighbors = [umap_n_neighbors_list[i] for i in result_id_list]\n",
    "    partioned_clustering_size = [partioned_clustering_size_list[i] for i in result_id_list]\n",
    "\n",
    "    dico = dict()\n",
    "    dico['ID'] = []\n",
    "    ## Parameters\n",
    "    dico['Overlap'] = []\n",
    "    dico['Window Length'] = []\n",
    "    dico['UMAP Dim Size'] = []\n",
    "    dico['UMAP n Neighbors'] = []\n",
    "    dico['Partitioned Clustering Size'] = []\n",
    "    dico['Jaccard'] = []\n",
    "    dico['Coherence'] = []\n",
    "    dico['Number of timeframes'] = []\n",
    "    dico['Clusters per timeframe'] = []\n",
    "\n",
    "    df = pd.DataFrame()\n",
    "    for i in range(len(result_id_list)) :\n",
    "        dico['ID'].append(result_id_list[i])\n",
    "        dico['Overlap'].append(overlap[i])\n",
    "        dico['Window Length'].append(window_length[i])\n",
    "        dico['UMAP Dim Size'].append(umap_dimension_size[i])\n",
    "        dico['UMAP n Neighbors'].append(umap_n_neighbors[i])\n",
    "        dico['Partitioned Clustering Size'].append(partioned_clustering_size[i])\n",
    "        dico['Jaccard'].append([round(num, 3) for num in jaccard_list[i]])\n",
    "        dico['Coherence'].append([round(num, 3) for num in topic_coherence_list[i]])\n",
    "        dico['Number of timeframes'].append(len(num_clusters_list[i]))\n",
    "        dico['Clusters per timeframe'].append(num_clusters_list[i])\n",
    "\n",
    "    #print(data)\n",
    "    # create list of lists containing only elements corresponding to True in bools\n",
    "    #filtered_data = [data[i] for i, b in enumerate(bools) if b]\n",
    "\n",
    "    # create dataframe from filtered data\n",
    "    #df = pd.DataFrame(filtered_data).T\n",
    "    return pd.DataFrame(dico)\n"
   ],
   "metadata": {
    "collapsed": false,
    "ExecuteTime": {
     "end_time": "2023-06-23T09:05:39.810259Z",
     "start_time": "2023-06-23T09:05:39.789624Z"
    }
   }
  },
  {
   "cell_type": "code",
   "execution_count": 48,
   "outputs": [
    {
     "data": {
      "text/plain": "    ID  Overlap  Window Length  UMAP Dim Size  UMAP n Neighbors  \\\n0    0        2              3              2                10   \n1    1        2              3              2                10   \n2    2        2              3              2                10   \n3    3        2              3              2                10   \n4    4        2              3              2                10   \n..  ..      ...            ...            ...               ...   \n95  95        2              3              5               100   \n96  96        2              3              5               100   \n97  97        2              3              5               100   \n98  98        2              3              5               100   \n99  99        2              3              5               100   \n\n    Partitioned Clustering Size                       Jaccard  \\\n0                            10  [0.999, 0.999, 0.999, 0.999]   \n1                            15  [0.999, 0.999, 0.999, 0.999]   \n2                            20    [0.998, 0.999, 1.0, 0.998]   \n3                            50      [0.996, 1.0, 0.947, 1.0]   \n4                           100      [1.0, 0.947, 0.996, 1.0]   \n..                          ...                           ...   \n95                           10        [0.998, 1.0, 1.0, 1.0]   \n96                           15        [0.996, 1.0, 1.0, 1.0]   \n97                           20      [0.997, 0.998, 1.0, 1.0]   \n98                           50      [0.995, 1.0, 0.998, 1.0]   \n99                          100      [0.993, 0.995, 1.0, 1.0]   \n\n                       Coherence  Number of timeframes  \\\n0    [0.383, 0.367, 0.38, 0.374]                     5   \n1   [0.397, 0.384, 0.386, 0.395]                     5   \n2   [0.419, 0.421, 0.365, 0.436]                     5   \n3   [0.484, 0.448, 0.342, 0.414]                     5   \n4   [0.501, 0.448, 0.505, 0.436]                     5   \n..                           ...                   ...   \n95   [0.403, 0.39, 0.391, 0.501]                     5   \n96  [0.457, 0.483, 0.357, 0.442]                     5   \n97    [0.443, 0.42, 0.451, 0.47]                     5   \n98  [0.524, 0.516, 0.472, 0.391]                     5   \n99   [0.526, 0.515, 0.501, 0.39]                     5   \n\n       Clusters per timeframe  \n0   [151, 154, 175, 193, 139]  \n1     [103, 104, 112, 117, 4]  \n2          [79, 67, 2, 82, 4]  \n3            [33, 4, 2, 3, 3]  \n4            [2, 2, 14, 2, 2]  \n..                        ...  \n95        [128, 2, 3, 2, 121]  \n96          [66, 3, 2, 2, 59]  \n97          [60, 35, 4, 2, 2]  \n98          [25, 5, 24, 2, 2]  \n99          [21, 16, 3, 3, 2]  \n\n[100 rows x 10 columns]",
      "text/html": "<div>\n<style scoped>\n    .dataframe tbody tr th:only-of-type {\n        vertical-align: middle;\n    }\n\n    .dataframe tbody tr th {\n        vertical-align: top;\n    }\n\n    .dataframe thead th {\n        text-align: right;\n    }\n</style>\n<table border=\"1\" class=\"dataframe\">\n  <thead>\n    <tr style=\"text-align: right;\">\n      <th></th>\n      <th>ID</th>\n      <th>Overlap</th>\n      <th>Window Length</th>\n      <th>UMAP Dim Size</th>\n      <th>UMAP n Neighbors</th>\n      <th>Partitioned Clustering Size</th>\n      <th>Jaccard</th>\n      <th>Coherence</th>\n      <th>Number of timeframes</th>\n      <th>Clusters per timeframe</th>\n    </tr>\n  </thead>\n  <tbody>\n    <tr>\n      <th>0</th>\n      <td>0</td>\n      <td>2</td>\n      <td>3</td>\n      <td>2</td>\n      <td>10</td>\n      <td>10</td>\n      <td>[0.999, 0.999, 0.999, 0.999]</td>\n      <td>[0.383, 0.367, 0.38, 0.374]</td>\n      <td>5</td>\n      <td>[151, 154, 175, 193, 139]</td>\n    </tr>\n    <tr>\n      <th>1</th>\n      <td>1</td>\n      <td>2</td>\n      <td>3</td>\n      <td>2</td>\n      <td>10</td>\n      <td>15</td>\n      <td>[0.999, 0.999, 0.999, 0.999]</td>\n      <td>[0.397, 0.384, 0.386, 0.395]</td>\n      <td>5</td>\n      <td>[103, 104, 112, 117, 4]</td>\n    </tr>\n    <tr>\n      <th>2</th>\n      <td>2</td>\n      <td>2</td>\n      <td>3</td>\n      <td>2</td>\n      <td>10</td>\n      <td>20</td>\n      <td>[0.998, 0.999, 1.0, 0.998]</td>\n      <td>[0.419, 0.421, 0.365, 0.436]</td>\n      <td>5</td>\n      <td>[79, 67, 2, 82, 4]</td>\n    </tr>\n    <tr>\n      <th>3</th>\n      <td>3</td>\n      <td>2</td>\n      <td>3</td>\n      <td>2</td>\n      <td>10</td>\n      <td>50</td>\n      <td>[0.996, 1.0, 0.947, 1.0]</td>\n      <td>[0.484, 0.448, 0.342, 0.414]</td>\n      <td>5</td>\n      <td>[33, 4, 2, 3, 3]</td>\n    </tr>\n    <tr>\n      <th>4</th>\n      <td>4</td>\n      <td>2</td>\n      <td>3</td>\n      <td>2</td>\n      <td>10</td>\n      <td>100</td>\n      <td>[1.0, 0.947, 0.996, 1.0]</td>\n      <td>[0.501, 0.448, 0.505, 0.436]</td>\n      <td>5</td>\n      <td>[2, 2, 14, 2, 2]</td>\n    </tr>\n    <tr>\n      <th>...</th>\n      <td>...</td>\n      <td>...</td>\n      <td>...</td>\n      <td>...</td>\n      <td>...</td>\n      <td>...</td>\n      <td>...</td>\n      <td>...</td>\n      <td>...</td>\n      <td>...</td>\n    </tr>\n    <tr>\n      <th>95</th>\n      <td>95</td>\n      <td>2</td>\n      <td>3</td>\n      <td>5</td>\n      <td>100</td>\n      <td>10</td>\n      <td>[0.998, 1.0, 1.0, 1.0]</td>\n      <td>[0.403, 0.39, 0.391, 0.501]</td>\n      <td>5</td>\n      <td>[128, 2, 3, 2, 121]</td>\n    </tr>\n    <tr>\n      <th>96</th>\n      <td>96</td>\n      <td>2</td>\n      <td>3</td>\n      <td>5</td>\n      <td>100</td>\n      <td>15</td>\n      <td>[0.996, 1.0, 1.0, 1.0]</td>\n      <td>[0.457, 0.483, 0.357, 0.442]</td>\n      <td>5</td>\n      <td>[66, 3, 2, 2, 59]</td>\n    </tr>\n    <tr>\n      <th>97</th>\n      <td>97</td>\n      <td>2</td>\n      <td>3</td>\n      <td>5</td>\n      <td>100</td>\n      <td>20</td>\n      <td>[0.997, 0.998, 1.0, 1.0]</td>\n      <td>[0.443, 0.42, 0.451, 0.47]</td>\n      <td>5</td>\n      <td>[60, 35, 4, 2, 2]</td>\n    </tr>\n    <tr>\n      <th>98</th>\n      <td>98</td>\n      <td>2</td>\n      <td>3</td>\n      <td>5</td>\n      <td>100</td>\n      <td>50</td>\n      <td>[0.995, 1.0, 0.998, 1.0]</td>\n      <td>[0.524, 0.516, 0.472, 0.391]</td>\n      <td>5</td>\n      <td>[25, 5, 24, 2, 2]</td>\n    </tr>\n    <tr>\n      <th>99</th>\n      <td>99</td>\n      <td>2</td>\n      <td>3</td>\n      <td>5</td>\n      <td>100</td>\n      <td>100</td>\n      <td>[0.993, 0.995, 1.0, 1.0]</td>\n      <td>[0.526, 0.515, 0.501, 0.39]</td>\n      <td>5</td>\n      <td>[21, 16, 3, 3, 2]</td>\n    </tr>\n  </tbody>\n</table>\n<p>100 rows × 10 columns</p>\n</div>"
     },
     "execution_count": 48,
     "metadata": {},
     "output_type": "execute_result"
    }
   ],
   "source": [
    "# Load the files generated by GRIDSEARCHING.ipynb notebook\n",
    "\n",
    "result = link_parameters_results(\"pNYT-o2-w3.txt\",\"NYT-o2-w3.txt\")\n",
    "result"
   ],
   "metadata": {
    "collapsed": false,
    "ExecuteTime": {
     "end_time": "2023-06-23T09:05:40.503636Z",
     "start_time": "2023-06-23T09:05:40.095340Z"
    }
   }
  },
  {
   "cell_type": "code",
   "execution_count": 49,
   "outputs": [
    {
     "data": {
      "text/plain": "array([63.77, 50.86, 36.8 , 50.47, 39.44])"
     },
     "execution_count": 49,
     "metadata": {},
     "output_type": "execute_result"
    }
   ],
   "source": [
    "## Average number of topics per period, used in WTQ\n",
    "arr = np.array(result['Clusters per timeframe'].tolist())\n",
    "mean_list = np.mean(arr, axis=0)\n",
    "mean_list"
   ],
   "metadata": {
    "collapsed": false,
    "ExecuteTime": {
     "end_time": "2023-06-23T09:05:42.476945Z",
     "start_time": "2023-06-23T09:05:42.472240Z"
    }
   }
  },
  {
   "cell_type": "code",
   "execution_count": 51,
   "outputs": [
    {
     "data": {
      "text/plain": "    ID  UMAP Dim Size  UMAP n Neighbors  Partitioned Clustering Size  \\\n0    0              2                10                           10   \n1    1              2                10                           15   \n2    2              2                10                           20   \n3    3              2                10                           50   \n4    4              2                10                          100   \n..  ..            ...               ...                          ...   \n95  95              5               100                           10   \n96  96              5               100                           15   \n97  97              5               100                           20   \n98  98              5               100                           50   \n99  99              5               100                          100   \n\n         TQ1       TQ2       TQ3       TQ4   N1   N2   N3   N4      WTQ1  \\\n0   0.382617  0.366633  0.379620  0.373626  151  154  175  193  0.905993   \n1   0.396603  0.383616  0.385614  0.394605  103  104  112  117  0.640585   \n2   0.418162  0.420579  0.365000  0.435128   79   67    2   82  0.518030   \n3   0.482064  0.448000  0.323874  0.414000   33    4    2    3  0.249461   \n4   0.501000  0.424256  0.502980  0.436000    2    2   14    2  0.015713   \n..       ...       ...       ...       ...  ...  ...  ...  ...       ...   \n95  0.402194  0.390000  0.391000  0.501000  128    2    3    2  0.807289   \n96  0.455172  0.483000  0.357000  0.442000   66    3    2    2  0.471089   \n97  0.441671  0.419160  0.451000  0.470000   60   35    4    2  0.415560   \n98  0.521380  0.516000  0.471056  0.391000   25    5   24    2  0.204399   \n99  0.522318  0.512425  0.501000  0.390000   21   16    3    3  0.172004   \n\n        WTQ2      WTQ3      WTQ4  \n0   1.110135  1.805258  1.428766  \n1   0.784429  1.173608  0.914777  \n2   0.554046  0.019837  0.706964  \n3   0.035234  0.017602  0.024609  \n4   0.016683  0.191351  0.017278  \n..       ...       ...       ...  \n95  0.015336  0.031875  0.019853  \n96  0.028490  0.019402  0.017515  \n97  0.288451  0.049022  0.018625  \n98  0.050727  0.307210  0.015494  \n99  0.161203  0.040842  0.023182  \n\n[100 rows x 16 columns]",
      "text/html": "<div>\n<style scoped>\n    .dataframe tbody tr th:only-of-type {\n        vertical-align: middle;\n    }\n\n    .dataframe tbody tr th {\n        vertical-align: top;\n    }\n\n    .dataframe thead th {\n        text-align: right;\n    }\n</style>\n<table border=\"1\" class=\"dataframe\">\n  <thead>\n    <tr style=\"text-align: right;\">\n      <th></th>\n      <th>ID</th>\n      <th>UMAP Dim Size</th>\n      <th>UMAP n Neighbors</th>\n      <th>Partitioned Clustering Size</th>\n      <th>TQ1</th>\n      <th>TQ2</th>\n      <th>TQ3</th>\n      <th>TQ4</th>\n      <th>N1</th>\n      <th>N2</th>\n      <th>N3</th>\n      <th>N4</th>\n      <th>WTQ1</th>\n      <th>WTQ2</th>\n      <th>WTQ3</th>\n      <th>WTQ4</th>\n    </tr>\n  </thead>\n  <tbody>\n    <tr>\n      <th>0</th>\n      <td>0</td>\n      <td>2</td>\n      <td>10</td>\n      <td>10</td>\n      <td>0.382617</td>\n      <td>0.366633</td>\n      <td>0.379620</td>\n      <td>0.373626</td>\n      <td>151</td>\n      <td>154</td>\n      <td>175</td>\n      <td>193</td>\n      <td>0.905993</td>\n      <td>1.110135</td>\n      <td>1.805258</td>\n      <td>1.428766</td>\n    </tr>\n    <tr>\n      <th>1</th>\n      <td>1</td>\n      <td>2</td>\n      <td>10</td>\n      <td>15</td>\n      <td>0.396603</td>\n      <td>0.383616</td>\n      <td>0.385614</td>\n      <td>0.394605</td>\n      <td>103</td>\n      <td>104</td>\n      <td>112</td>\n      <td>117</td>\n      <td>0.640585</td>\n      <td>0.784429</td>\n      <td>1.173608</td>\n      <td>0.914777</td>\n    </tr>\n    <tr>\n      <th>2</th>\n      <td>2</td>\n      <td>2</td>\n      <td>10</td>\n      <td>20</td>\n      <td>0.418162</td>\n      <td>0.420579</td>\n      <td>0.365000</td>\n      <td>0.435128</td>\n      <td>79</td>\n      <td>67</td>\n      <td>2</td>\n      <td>82</td>\n      <td>0.518030</td>\n      <td>0.554046</td>\n      <td>0.019837</td>\n      <td>0.706964</td>\n    </tr>\n    <tr>\n      <th>3</th>\n      <td>3</td>\n      <td>2</td>\n      <td>10</td>\n      <td>50</td>\n      <td>0.482064</td>\n      <td>0.448000</td>\n      <td>0.323874</td>\n      <td>0.414000</td>\n      <td>33</td>\n      <td>4</td>\n      <td>2</td>\n      <td>3</td>\n      <td>0.249461</td>\n      <td>0.035234</td>\n      <td>0.017602</td>\n      <td>0.024609</td>\n    </tr>\n    <tr>\n      <th>4</th>\n      <td>4</td>\n      <td>2</td>\n      <td>10</td>\n      <td>100</td>\n      <td>0.501000</td>\n      <td>0.424256</td>\n      <td>0.502980</td>\n      <td>0.436000</td>\n      <td>2</td>\n      <td>2</td>\n      <td>14</td>\n      <td>2</td>\n      <td>0.015713</td>\n      <td>0.016683</td>\n      <td>0.191351</td>\n      <td>0.017278</td>\n    </tr>\n    <tr>\n      <th>...</th>\n      <td>...</td>\n      <td>...</td>\n      <td>...</td>\n      <td>...</td>\n      <td>...</td>\n      <td>...</td>\n      <td>...</td>\n      <td>...</td>\n      <td>...</td>\n      <td>...</td>\n      <td>...</td>\n      <td>...</td>\n      <td>...</td>\n      <td>...</td>\n      <td>...</td>\n      <td>...</td>\n    </tr>\n    <tr>\n      <th>95</th>\n      <td>95</td>\n      <td>5</td>\n      <td>100</td>\n      <td>10</td>\n      <td>0.402194</td>\n      <td>0.390000</td>\n      <td>0.391000</td>\n      <td>0.501000</td>\n      <td>128</td>\n      <td>2</td>\n      <td>3</td>\n      <td>2</td>\n      <td>0.807289</td>\n      <td>0.015336</td>\n      <td>0.031875</td>\n      <td>0.019853</td>\n    </tr>\n    <tr>\n      <th>96</th>\n      <td>96</td>\n      <td>5</td>\n      <td>100</td>\n      <td>15</td>\n      <td>0.455172</td>\n      <td>0.483000</td>\n      <td>0.357000</td>\n      <td>0.442000</td>\n      <td>66</td>\n      <td>3</td>\n      <td>2</td>\n      <td>2</td>\n      <td>0.471089</td>\n      <td>0.028490</td>\n      <td>0.019402</td>\n      <td>0.017515</td>\n    </tr>\n    <tr>\n      <th>97</th>\n      <td>97</td>\n      <td>5</td>\n      <td>100</td>\n      <td>20</td>\n      <td>0.441671</td>\n      <td>0.419160</td>\n      <td>0.451000</td>\n      <td>0.470000</td>\n      <td>60</td>\n      <td>35</td>\n      <td>4</td>\n      <td>2</td>\n      <td>0.415560</td>\n      <td>0.288451</td>\n      <td>0.049022</td>\n      <td>0.018625</td>\n    </tr>\n    <tr>\n      <th>98</th>\n      <td>98</td>\n      <td>5</td>\n      <td>100</td>\n      <td>50</td>\n      <td>0.521380</td>\n      <td>0.516000</td>\n      <td>0.471056</td>\n      <td>0.391000</td>\n      <td>25</td>\n      <td>5</td>\n      <td>24</td>\n      <td>2</td>\n      <td>0.204399</td>\n      <td>0.050727</td>\n      <td>0.307210</td>\n      <td>0.015494</td>\n    </tr>\n    <tr>\n      <th>99</th>\n      <td>99</td>\n      <td>5</td>\n      <td>100</td>\n      <td>100</td>\n      <td>0.522318</td>\n      <td>0.512425</td>\n      <td>0.501000</td>\n      <td>0.390000</td>\n      <td>21</td>\n      <td>16</td>\n      <td>3</td>\n      <td>3</td>\n      <td>0.172004</td>\n      <td>0.161203</td>\n      <td>0.040842</td>\n      <td>0.023182</td>\n    </tr>\n  </tbody>\n</table>\n<p>100 rows × 16 columns</p>\n</div>"
     },
     "execution_count": 51,
     "metadata": {},
     "output_type": "execute_result"
    }
   ],
   "source": [
    "result[['C1','C2','C3','C4']] = result['Coherence'].apply(lambda x : pd.Series(x))\n",
    "result[['D1','D2','D3','D4']] = result['Jaccard'].apply(lambda x : pd.Series(x))\n",
    "\n",
    "result['TQ1'] = result.apply(lambda row: row['D1'] * row['C1'], axis=1)\n",
    "result['TQ2'] = result.apply(lambda row: row['D2'] * row['C2'], axis=1)\n",
    "result['TQ3'] = result.apply(lambda row: row['D3'] * row['C3'], axis=1)\n",
    "result['TQ4'] = result.apply(lambda row: row['D4'] * row['C4'], axis=1)\n",
    "\n",
    "result[['N1','N2','N3','N4','N5']] = result['Clusters per timeframe'].apply(lambda x : pd.Series(x))\n",
    "\n",
    "result['WTQ1'] = result.apply(lambda row: row['TQ1'] * (row['N1'] / mean_list[0]) , axis=1)\n",
    "result['WTQ2'] = result.apply(lambda row: row['TQ2'] * (row['N2'] / mean_list[1]), axis=1)\n",
    "result['WTQ3'] = result.apply(lambda row: row['TQ3'] * (row['N3'] / mean_list[2]), axis=1)\n",
    "result['WTQ4'] = result.apply(lambda row: row['TQ4'] * (row['N4'] / mean_list[3]), axis=1)\n",
    "\n",
    "result = result.drop(columns=['Jaccard','Coherence','C1','C2','C3','C4','D1','D2','D3','D4','Clusters per timeframe','Number of timeframes','Overlap','Window Length', 'N5'])\n",
    "\n",
    "result"
   ],
   "metadata": {
    "collapsed": false,
    "ExecuteTime": {
     "end_time": "2023-06-23T09:08:04.685637Z",
     "start_time": "2023-06-23T09:08:04.642339Z"
    }
   }
  },
  {
   "cell_type": "code",
   "execution_count": 53,
   "outputs": [
    {
     "data": {
      "text/plain": "    ID  UMAP Dim Size  UMAP n Neighbors  Partitioned Clustering Size  \\\n0    0              2                10                           10   \n1    1              2                10                           15   \n2    2              2                10                           20   \n3    3              2                10                           50   \n4    4              2                10                          100   \n..  ..            ...               ...                          ...   \n95  95              5               100                           10   \n96  96              5               100                           15   \n97  97              5               100                           20   \n98  98              5               100                           50   \n99  99              5               100                          100   \n\n         TQ1       TQ2       TQ3       TQ4   N1   N2   N3   N4      WTQ1  \\\n0   0.382617  0.366633  0.379620  0.373626  151  154  175  193  0.905993   \n1   0.396603  0.383616  0.385614  0.394605  103  104  112  117  0.640585   \n2   0.418162  0.420579  0.365000  0.435128   79   67    2   82  0.518030   \n3   0.482064  0.448000  0.323874  0.414000   33    4    2    3  0.249461   \n4   0.501000  0.424256  0.502980  0.436000    2    2   14    2  0.015713   \n..       ...       ...       ...       ...  ...  ...  ...  ...       ...   \n95  0.402194  0.390000  0.391000  0.501000  128    2    3    2  0.807289   \n96  0.455172  0.483000  0.357000  0.442000   66    3    2    2  0.471089   \n97  0.441671  0.419160  0.451000  0.470000   60   35    4    2  0.415560   \n98  0.521380  0.516000  0.471056  0.391000   25    5   24    2  0.204399   \n99  0.522318  0.512425  0.501000  0.390000   21   16    3    3  0.172004   \n\n        WTQ2      WTQ3      WTQ4   mean TQ  mean WTQ  \n0   1.110135  1.805258  1.428766  0.375624  1.312538  \n1   0.784429  1.173608  0.914777  0.390110  0.878350  \n2   0.554046  0.019837  0.706964  0.409717  0.449720  \n3   0.035234  0.017602  0.024609  0.416984  0.081726  \n4   0.016683  0.191351  0.017278  0.466059  0.060256  \n..       ...       ...       ...       ...       ...  \n95  0.015336  0.031875  0.019853  0.421049  0.218588  \n96  0.028490  0.019402  0.017515  0.434293  0.134124  \n97  0.288451  0.049022  0.018625  0.445458  0.192914  \n98  0.050727  0.307210  0.015494  0.474859  0.144458  \n99  0.161203  0.040842  0.023182  0.481436  0.099308  \n\n[100 rows x 18 columns]",
      "text/html": "<div>\n<style scoped>\n    .dataframe tbody tr th:only-of-type {\n        vertical-align: middle;\n    }\n\n    .dataframe tbody tr th {\n        vertical-align: top;\n    }\n\n    .dataframe thead th {\n        text-align: right;\n    }\n</style>\n<table border=\"1\" class=\"dataframe\">\n  <thead>\n    <tr style=\"text-align: right;\">\n      <th></th>\n      <th>ID</th>\n      <th>UMAP Dim Size</th>\n      <th>UMAP n Neighbors</th>\n      <th>Partitioned Clustering Size</th>\n      <th>TQ1</th>\n      <th>TQ2</th>\n      <th>TQ3</th>\n      <th>TQ4</th>\n      <th>N1</th>\n      <th>N2</th>\n      <th>N3</th>\n      <th>N4</th>\n      <th>WTQ1</th>\n      <th>WTQ2</th>\n      <th>WTQ3</th>\n      <th>WTQ4</th>\n      <th>mean TQ</th>\n      <th>mean WTQ</th>\n    </tr>\n  </thead>\n  <tbody>\n    <tr>\n      <th>0</th>\n      <td>0</td>\n      <td>2</td>\n      <td>10</td>\n      <td>10</td>\n      <td>0.382617</td>\n      <td>0.366633</td>\n      <td>0.379620</td>\n      <td>0.373626</td>\n      <td>151</td>\n      <td>154</td>\n      <td>175</td>\n      <td>193</td>\n      <td>0.905993</td>\n      <td>1.110135</td>\n      <td>1.805258</td>\n      <td>1.428766</td>\n      <td>0.375624</td>\n      <td>1.312538</td>\n    </tr>\n    <tr>\n      <th>1</th>\n      <td>1</td>\n      <td>2</td>\n      <td>10</td>\n      <td>15</td>\n      <td>0.396603</td>\n      <td>0.383616</td>\n      <td>0.385614</td>\n      <td>0.394605</td>\n      <td>103</td>\n      <td>104</td>\n      <td>112</td>\n      <td>117</td>\n      <td>0.640585</td>\n      <td>0.784429</td>\n      <td>1.173608</td>\n      <td>0.914777</td>\n      <td>0.390110</td>\n      <td>0.878350</td>\n    </tr>\n    <tr>\n      <th>2</th>\n      <td>2</td>\n      <td>2</td>\n      <td>10</td>\n      <td>20</td>\n      <td>0.418162</td>\n      <td>0.420579</td>\n      <td>0.365000</td>\n      <td>0.435128</td>\n      <td>79</td>\n      <td>67</td>\n      <td>2</td>\n      <td>82</td>\n      <td>0.518030</td>\n      <td>0.554046</td>\n      <td>0.019837</td>\n      <td>0.706964</td>\n      <td>0.409717</td>\n      <td>0.449720</td>\n    </tr>\n    <tr>\n      <th>3</th>\n      <td>3</td>\n      <td>2</td>\n      <td>10</td>\n      <td>50</td>\n      <td>0.482064</td>\n      <td>0.448000</td>\n      <td>0.323874</td>\n      <td>0.414000</td>\n      <td>33</td>\n      <td>4</td>\n      <td>2</td>\n      <td>3</td>\n      <td>0.249461</td>\n      <td>0.035234</td>\n      <td>0.017602</td>\n      <td>0.024609</td>\n      <td>0.416984</td>\n      <td>0.081726</td>\n    </tr>\n    <tr>\n      <th>4</th>\n      <td>4</td>\n      <td>2</td>\n      <td>10</td>\n      <td>100</td>\n      <td>0.501000</td>\n      <td>0.424256</td>\n      <td>0.502980</td>\n      <td>0.436000</td>\n      <td>2</td>\n      <td>2</td>\n      <td>14</td>\n      <td>2</td>\n      <td>0.015713</td>\n      <td>0.016683</td>\n      <td>0.191351</td>\n      <td>0.017278</td>\n      <td>0.466059</td>\n      <td>0.060256</td>\n    </tr>\n    <tr>\n      <th>...</th>\n      <td>...</td>\n      <td>...</td>\n      <td>...</td>\n      <td>...</td>\n      <td>...</td>\n      <td>...</td>\n      <td>...</td>\n      <td>...</td>\n      <td>...</td>\n      <td>...</td>\n      <td>...</td>\n      <td>...</td>\n      <td>...</td>\n      <td>...</td>\n      <td>...</td>\n      <td>...</td>\n      <td>...</td>\n      <td>...</td>\n    </tr>\n    <tr>\n      <th>95</th>\n      <td>95</td>\n      <td>5</td>\n      <td>100</td>\n      <td>10</td>\n      <td>0.402194</td>\n      <td>0.390000</td>\n      <td>0.391000</td>\n      <td>0.501000</td>\n      <td>128</td>\n      <td>2</td>\n      <td>3</td>\n      <td>2</td>\n      <td>0.807289</td>\n      <td>0.015336</td>\n      <td>0.031875</td>\n      <td>0.019853</td>\n      <td>0.421049</td>\n      <td>0.218588</td>\n    </tr>\n    <tr>\n      <th>96</th>\n      <td>96</td>\n      <td>5</td>\n      <td>100</td>\n      <td>15</td>\n      <td>0.455172</td>\n      <td>0.483000</td>\n      <td>0.357000</td>\n      <td>0.442000</td>\n      <td>66</td>\n      <td>3</td>\n      <td>2</td>\n      <td>2</td>\n      <td>0.471089</td>\n      <td>0.028490</td>\n      <td>0.019402</td>\n      <td>0.017515</td>\n      <td>0.434293</td>\n      <td>0.134124</td>\n    </tr>\n    <tr>\n      <th>97</th>\n      <td>97</td>\n      <td>5</td>\n      <td>100</td>\n      <td>20</td>\n      <td>0.441671</td>\n      <td>0.419160</td>\n      <td>0.451000</td>\n      <td>0.470000</td>\n      <td>60</td>\n      <td>35</td>\n      <td>4</td>\n      <td>2</td>\n      <td>0.415560</td>\n      <td>0.288451</td>\n      <td>0.049022</td>\n      <td>0.018625</td>\n      <td>0.445458</td>\n      <td>0.192914</td>\n    </tr>\n    <tr>\n      <th>98</th>\n      <td>98</td>\n      <td>5</td>\n      <td>100</td>\n      <td>50</td>\n      <td>0.521380</td>\n      <td>0.516000</td>\n      <td>0.471056</td>\n      <td>0.391000</td>\n      <td>25</td>\n      <td>5</td>\n      <td>24</td>\n      <td>2</td>\n      <td>0.204399</td>\n      <td>0.050727</td>\n      <td>0.307210</td>\n      <td>0.015494</td>\n      <td>0.474859</td>\n      <td>0.144458</td>\n    </tr>\n    <tr>\n      <th>99</th>\n      <td>99</td>\n      <td>5</td>\n      <td>100</td>\n      <td>100</td>\n      <td>0.522318</td>\n      <td>0.512425</td>\n      <td>0.501000</td>\n      <td>0.390000</td>\n      <td>21</td>\n      <td>16</td>\n      <td>3</td>\n      <td>3</td>\n      <td>0.172004</td>\n      <td>0.161203</td>\n      <td>0.040842</td>\n      <td>0.023182</td>\n      <td>0.481436</td>\n      <td>0.099308</td>\n    </tr>\n  </tbody>\n</table>\n<p>100 rows × 18 columns</p>\n</div>"
     },
     "execution_count": 53,
     "metadata": {},
     "output_type": "execute_result"
    }
   ],
   "source": [
    "result['mean TQ'] = result[['TQ1', 'TQ2', 'TQ3', 'TQ4']].mean(axis=1)\n",
    "result['mean WTQ'] = result[['WTQ1','WTQ2','WTQ3','WTQ4']].mean(axis=1)\n",
    "\n",
    "result"
   ],
   "metadata": {
    "collapsed": false,
    "ExecuteTime": {
     "end_time": "2023-06-23T09:08:56.551200Z",
     "start_time": "2023-06-23T09:08:56.537415Z"
    }
   }
  },
  {
   "cell_type": "markdown",
   "source": [
    "# TABLE 1 : HIGHEST MEAN TQ"
   ],
   "metadata": {
    "collapsed": false
   }
  },
  {
   "cell_type": "code",
   "execution_count": 55,
   "outputs": [
    {
     "name": "stderr",
     "output_type": "stream",
     "text": [
      "/var/folders/wh/bdgxw5rj48x6p041447q9z5m0000gn/T/ipykernel_73564/2632200358.py:8: SettingWithCopyWarning: \n",
      "A value is trying to be set on a copy of a slice from a DataFrame.\n",
      "Try using .loc[row_indexer,col_indexer] = value instead\n",
      "\n",
      "See the caveats in the documentation: https://pandas.pydata.org/pandas-docs/stable/user_guide/indexing.html#returning-a-view-versus-a-copy\n",
      "  table1[column] = table1[column].round(3)  # Keep only three decimal places\n",
      "/var/folders/wh/bdgxw5rj48x6p041447q9z5m0000gn/T/ipykernel_73564/2632200358.py:9: SettingWithCopyWarning: \n",
      "A value is trying to be set on a copy of a slice from a DataFrame.\n",
      "Try using .loc[row_indexer,col_indexer] = value instead\n",
      "\n",
      "See the caveats in the documentation: https://pandas.pydata.org/pandas-docs/stable/user_guide/indexing.html#returning-a-view-versus-a-copy\n",
      "  table1[column] = table1[column].apply(lambda x: f\"{x:.3f} ± 0.001\")  # Add ±0.001 error margin\n"
     ]
    },
    {
     "data": {
      "text/plain": "    ID  UMAP Dim Size  UMAP n Neighbors  Partitioned Clustering Size  \\\n23  23              2               100                           50   \n19  19              2                50                          100   \n53  53              4                10                           50   \n78  78              5                10                           50   \n28  28              3                10                           50   \n\n              TQ1            TQ2            TQ3            TQ4  N1  N2  N3  \\\n23  0.538 ± 0.001  0.551 ± 0.001  0.485 ± 0.001  0.440 ± 0.001  24  19  17   \n19  0.538 ± 0.001  0.517 ± 0.001  0.481 ± 0.001  0.463 ± 0.001  18  16  12   \n53  0.503 ± 0.001  0.504 ± 0.001  0.468 ± 0.001  0.493 ± 0.001  28  25  33   \n78  0.503 ± 0.001  0.504 ± 0.001  0.468 ± 0.001  0.493 ± 0.001  28  25  33   \n28  0.503 ± 0.001  0.504 ± 0.001  0.468 ± 0.001  0.493 ± 0.001  28  25  33   \n\n    N4           WTQ1           WTQ2           WTQ3           WTQ4  \\\n23   3  0.202 ± 0.001  0.206 ± 0.001  0.224 ± 0.001  0.026 ± 0.001   \n19   5  0.152 ± 0.001  0.163 ± 0.001  0.157 ± 0.001  0.046 ± 0.001   \n53   3  0.221 ± 0.001  0.248 ± 0.001  0.419 ± 0.001  0.029 ± 0.001   \n78   3  0.221 ± 0.001  0.248 ± 0.001  0.419 ± 0.001  0.029 ± 0.001   \n28   3  0.221 ± 0.001  0.248 ± 0.001  0.419 ± 0.001  0.029 ± 0.001   \n\n          mean TQ       mean WTQ  \n23  0.503 ± 0.001  0.165 ± 0.001  \n19  0.500 ± 0.001  0.129 ± 0.001  \n53  0.492 ± 0.001  0.229 ± 0.001  \n78  0.492 ± 0.001  0.229 ± 0.001  \n28  0.492 ± 0.001  0.229 ± 0.001  ",
      "text/html": "<div>\n<style scoped>\n    .dataframe tbody tr th:only-of-type {\n        vertical-align: middle;\n    }\n\n    .dataframe tbody tr th {\n        vertical-align: top;\n    }\n\n    .dataframe thead th {\n        text-align: right;\n    }\n</style>\n<table border=\"1\" class=\"dataframe\">\n  <thead>\n    <tr style=\"text-align: right;\">\n      <th></th>\n      <th>ID</th>\n      <th>UMAP Dim Size</th>\n      <th>UMAP n Neighbors</th>\n      <th>Partitioned Clustering Size</th>\n      <th>TQ1</th>\n      <th>TQ2</th>\n      <th>TQ3</th>\n      <th>TQ4</th>\n      <th>N1</th>\n      <th>N2</th>\n      <th>N3</th>\n      <th>N4</th>\n      <th>WTQ1</th>\n      <th>WTQ2</th>\n      <th>WTQ3</th>\n      <th>WTQ4</th>\n      <th>mean TQ</th>\n      <th>mean WTQ</th>\n    </tr>\n  </thead>\n  <tbody>\n    <tr>\n      <th>23</th>\n      <td>23</td>\n      <td>2</td>\n      <td>100</td>\n      <td>50</td>\n      <td>0.538 ± 0.001</td>\n      <td>0.551 ± 0.001</td>\n      <td>0.485 ± 0.001</td>\n      <td>0.440 ± 0.001</td>\n      <td>24</td>\n      <td>19</td>\n      <td>17</td>\n      <td>3</td>\n      <td>0.202 ± 0.001</td>\n      <td>0.206 ± 0.001</td>\n      <td>0.224 ± 0.001</td>\n      <td>0.026 ± 0.001</td>\n      <td>0.503 ± 0.001</td>\n      <td>0.165 ± 0.001</td>\n    </tr>\n    <tr>\n      <th>19</th>\n      <td>19</td>\n      <td>2</td>\n      <td>50</td>\n      <td>100</td>\n      <td>0.538 ± 0.001</td>\n      <td>0.517 ± 0.001</td>\n      <td>0.481 ± 0.001</td>\n      <td>0.463 ± 0.001</td>\n      <td>18</td>\n      <td>16</td>\n      <td>12</td>\n      <td>5</td>\n      <td>0.152 ± 0.001</td>\n      <td>0.163 ± 0.001</td>\n      <td>0.157 ± 0.001</td>\n      <td>0.046 ± 0.001</td>\n      <td>0.500 ± 0.001</td>\n      <td>0.129 ± 0.001</td>\n    </tr>\n    <tr>\n      <th>53</th>\n      <td>53</td>\n      <td>4</td>\n      <td>10</td>\n      <td>50</td>\n      <td>0.503 ± 0.001</td>\n      <td>0.504 ± 0.001</td>\n      <td>0.468 ± 0.001</td>\n      <td>0.493 ± 0.001</td>\n      <td>28</td>\n      <td>25</td>\n      <td>33</td>\n      <td>3</td>\n      <td>0.221 ± 0.001</td>\n      <td>0.248 ± 0.001</td>\n      <td>0.419 ± 0.001</td>\n      <td>0.029 ± 0.001</td>\n      <td>0.492 ± 0.001</td>\n      <td>0.229 ± 0.001</td>\n    </tr>\n    <tr>\n      <th>78</th>\n      <td>78</td>\n      <td>5</td>\n      <td>10</td>\n      <td>50</td>\n      <td>0.503 ± 0.001</td>\n      <td>0.504 ± 0.001</td>\n      <td>0.468 ± 0.001</td>\n      <td>0.493 ± 0.001</td>\n      <td>28</td>\n      <td>25</td>\n      <td>33</td>\n      <td>3</td>\n      <td>0.221 ± 0.001</td>\n      <td>0.248 ± 0.001</td>\n      <td>0.419 ± 0.001</td>\n      <td>0.029 ± 0.001</td>\n      <td>0.492 ± 0.001</td>\n      <td>0.229 ± 0.001</td>\n    </tr>\n    <tr>\n      <th>28</th>\n      <td>28</td>\n      <td>3</td>\n      <td>10</td>\n      <td>50</td>\n      <td>0.503 ± 0.001</td>\n      <td>0.504 ± 0.001</td>\n      <td>0.468 ± 0.001</td>\n      <td>0.493 ± 0.001</td>\n      <td>28</td>\n      <td>25</td>\n      <td>33</td>\n      <td>3</td>\n      <td>0.221 ± 0.001</td>\n      <td>0.248 ± 0.001</td>\n      <td>0.419 ± 0.001</td>\n      <td>0.029 ± 0.001</td>\n      <td>0.492 ± 0.001</td>\n      <td>0.229 ± 0.001</td>\n    </tr>\n  </tbody>\n</table>\n</div>"
     },
     "execution_count": 55,
     "metadata": {},
     "output_type": "execute_result"
    }
   ],
   "source": [
    "result = result.sort_values(by='mean TQ', ascending=False)\n",
    "table1 = result.head(5)\n",
    "\n",
    "columns_to_process = ['TQ1', 'TQ2', 'TQ3', 'TQ4', 'WTQ1', 'WTQ2', 'WTQ3', 'WTQ4', 'mean TQ', 'mean WTQ']  # List the columns you want to process\n",
    "\n",
    "for column in columns_to_process:\n",
    "    table1[column] = table1[column].round(3)  # Keep only three decimal places\n",
    "    table1[column] = table1[column].apply(lambda x: f\"{x:.3f} ± 0.001\")  # Add ±0.001 error margin\n",
    "\n",
    "# Output the updated dataframe\n",
    "table1"
   ],
   "metadata": {
    "collapsed": false,
    "ExecuteTime": {
     "end_time": "2023-06-23T09:10:06.959013Z",
     "start_time": "2023-06-23T09:10:06.942869Z"
    }
   }
  },
  {
   "cell_type": "code",
   "execution_count": 40,
   "outputs": [],
   "source": [
    "table1.to_csv('table1.csv')"
   ],
   "metadata": {
    "collapsed": false,
    "ExecuteTime": {
     "end_time": "2023-06-23T07:41:52.793057Z",
     "start_time": "2023-06-23T07:41:52.751888Z"
    }
   }
  },
  {
   "cell_type": "code",
   "execution_count": 56,
   "outputs": [
    {
     "data": {
      "text/plain": "    ID  UMAP Dim Size  UMAP n Neighbors  Partitioned Clustering Size  \\\n77  77              5                10                           20   \n27  27              3                10                           20   \n52  52              4                10                           20   \n41  41              3                50                           15   \n66  66              4                50                           15   \n91  91              5                50                           15   \n51  51              4                10                           15   \n26  26              3                10                           15   \n76  76              5                10                           15   \n1    1              2                10                           15   \n55  55              4                15                           10   \n30  30              3                15                           10   \n80  80              5                15                           10   \n50  50              4                10                           10   \n85  85              5                20                           10   \n75  75              5                10                           10   \n60  60              4                20                           10   \n35  35              3                20                           10   \n25  25              3                10                           10   \n5    5              2                15                           10   \n0    0              2                10                           10   \n\n         TQ1       TQ2       TQ3       TQ4   N1   N2   N3   N4      WTQ1  \\\n77  0.422577  0.413586  0.388611  0.401598   80   66   82   91  0.530126   \n27  0.422577  0.413586  0.388611  0.401598   80   66   82   91  0.530126   \n52  0.422577  0.413586  0.388611  0.401598   80   66   82   91  0.530126   \n41  0.410178  0.393606  0.394605  0.416166   76   89   74   88  0.488843   \n66  0.410178  0.393606  0.394605  0.416166   76   89   74   88  0.488843   \n91  0.410178  0.393606  0.394605  0.416166   76   89   74   88  0.488843   \n51  0.406593  0.399600  0.390609  0.397602  102   95  117  119  0.650345   \n26  0.406593  0.399600  0.390609  0.397602  102   95  117  119  0.650345   \n76  0.406593  0.399600  0.390609  0.397602  102   95  117  119  0.650345   \n1   0.396603  0.383616  0.385614  0.394605  103  104  112  117  0.640585   \n55  0.386613  0.371628  0.377622  0.382617  139  141  177  165  0.842704   \n30  0.386613  0.371628  0.377622  0.382617  139  141  177  165  0.842704   \n80  0.386613  0.371628  0.377622  0.382617  139  141  177  165  0.842704   \n50  0.373626  0.372627  0.374625  0.391608  167  179  171  177  0.978447   \n85  0.384615  0.367632  0.375624  0.384615  150  160  152  175  0.904693   \n75  0.373626  0.372627  0.374625  0.391608  167  179  171  177  0.978447   \n60  0.384615  0.367632  0.375624  0.384615  150  160  152  175  0.904693   \n35  0.384615  0.367632  0.375624  0.384615  150  160  152  175  0.904693   \n25  0.373626  0.372627  0.374625  0.391608  167  179  171  177  0.978447   \n5   0.385614  0.368631  0.373626  0.379620  127  146  165  170  0.767963   \n0   0.382617  0.366633  0.379620  0.373626  151  154  175  193  0.905993   \n\n        WTQ2      WTQ3      WTQ4   mean TQ  mean WTQ  \n77  0.536702  0.865927  0.724102  0.406593  0.664214  \n27  0.536702  0.865927  0.724102  0.406593  0.664214  \n52  0.536702  0.865927  0.724102  0.406593  0.664214  \n41  0.688772  0.793499  0.725631  0.403639  0.674186  \n66  0.688772  0.793499  0.725631  0.403639  0.674186  \n91  0.688772  0.793499  0.725631  0.403639  0.674186  \n51  0.746402  1.241882  0.937480  0.398601  0.894027  \n26  0.746402  1.241882  0.937480  0.398601  0.894027  \n76  0.746402  1.241882  0.937480  0.398601  0.894027  \n1   0.784429  1.173608  0.914777  0.390110  0.878350  \n55  1.030270  1.816280  1.250878  0.379620  1.235033  \n30  1.030270  1.816280  1.250878  0.379620  1.235033  \n80  1.030270  1.816280  1.250878  0.379620  1.235033  \n50  1.311448  1.740785  1.373383  0.378121  1.351015  \n85  1.156530  1.551490  1.333617  0.378121  1.236582  \n75  1.311448  1.740785  1.373383  0.378121  1.351015  \n60  1.156530  1.551490  1.333617  0.378121  1.236582  \n35  1.156530  1.551490  1.333617  0.378121  1.236582  \n25  1.311448  1.740785  1.373383  0.378121  1.351015  \n5   1.058201  1.675225  1.278688  0.376873  1.195019  \n0   1.110135  1.805258  1.428766  0.375624  1.312538  ",
      "text/html": "<div>\n<style scoped>\n    .dataframe tbody tr th:only-of-type {\n        vertical-align: middle;\n    }\n\n    .dataframe tbody tr th {\n        vertical-align: top;\n    }\n\n    .dataframe thead th {\n        text-align: right;\n    }\n</style>\n<table border=\"1\" class=\"dataframe\">\n  <thead>\n    <tr style=\"text-align: right;\">\n      <th></th>\n      <th>ID</th>\n      <th>UMAP Dim Size</th>\n      <th>UMAP n Neighbors</th>\n      <th>Partitioned Clustering Size</th>\n      <th>TQ1</th>\n      <th>TQ2</th>\n      <th>TQ3</th>\n      <th>TQ4</th>\n      <th>N1</th>\n      <th>N2</th>\n      <th>N3</th>\n      <th>N4</th>\n      <th>WTQ1</th>\n      <th>WTQ2</th>\n      <th>WTQ3</th>\n      <th>WTQ4</th>\n      <th>mean TQ</th>\n      <th>mean WTQ</th>\n    </tr>\n  </thead>\n  <tbody>\n    <tr>\n      <th>77</th>\n      <td>77</td>\n      <td>5</td>\n      <td>10</td>\n      <td>20</td>\n      <td>0.422577</td>\n      <td>0.413586</td>\n      <td>0.388611</td>\n      <td>0.401598</td>\n      <td>80</td>\n      <td>66</td>\n      <td>82</td>\n      <td>91</td>\n      <td>0.530126</td>\n      <td>0.536702</td>\n      <td>0.865927</td>\n      <td>0.724102</td>\n      <td>0.406593</td>\n      <td>0.664214</td>\n    </tr>\n    <tr>\n      <th>27</th>\n      <td>27</td>\n      <td>3</td>\n      <td>10</td>\n      <td>20</td>\n      <td>0.422577</td>\n      <td>0.413586</td>\n      <td>0.388611</td>\n      <td>0.401598</td>\n      <td>80</td>\n      <td>66</td>\n      <td>82</td>\n      <td>91</td>\n      <td>0.530126</td>\n      <td>0.536702</td>\n      <td>0.865927</td>\n      <td>0.724102</td>\n      <td>0.406593</td>\n      <td>0.664214</td>\n    </tr>\n    <tr>\n      <th>52</th>\n      <td>52</td>\n      <td>4</td>\n      <td>10</td>\n      <td>20</td>\n      <td>0.422577</td>\n      <td>0.413586</td>\n      <td>0.388611</td>\n      <td>0.401598</td>\n      <td>80</td>\n      <td>66</td>\n      <td>82</td>\n      <td>91</td>\n      <td>0.530126</td>\n      <td>0.536702</td>\n      <td>0.865927</td>\n      <td>0.724102</td>\n      <td>0.406593</td>\n      <td>0.664214</td>\n    </tr>\n    <tr>\n      <th>41</th>\n      <td>41</td>\n      <td>3</td>\n      <td>50</td>\n      <td>15</td>\n      <td>0.410178</td>\n      <td>0.393606</td>\n      <td>0.394605</td>\n      <td>0.416166</td>\n      <td>76</td>\n      <td>89</td>\n      <td>74</td>\n      <td>88</td>\n      <td>0.488843</td>\n      <td>0.688772</td>\n      <td>0.793499</td>\n      <td>0.725631</td>\n      <td>0.403639</td>\n      <td>0.674186</td>\n    </tr>\n    <tr>\n      <th>66</th>\n      <td>66</td>\n      <td>4</td>\n      <td>50</td>\n      <td>15</td>\n      <td>0.410178</td>\n      <td>0.393606</td>\n      <td>0.394605</td>\n      <td>0.416166</td>\n      <td>76</td>\n      <td>89</td>\n      <td>74</td>\n      <td>88</td>\n      <td>0.488843</td>\n      <td>0.688772</td>\n      <td>0.793499</td>\n      <td>0.725631</td>\n      <td>0.403639</td>\n      <td>0.674186</td>\n    </tr>\n    <tr>\n      <th>91</th>\n      <td>91</td>\n      <td>5</td>\n      <td>50</td>\n      <td>15</td>\n      <td>0.410178</td>\n      <td>0.393606</td>\n      <td>0.394605</td>\n      <td>0.416166</td>\n      <td>76</td>\n      <td>89</td>\n      <td>74</td>\n      <td>88</td>\n      <td>0.488843</td>\n      <td>0.688772</td>\n      <td>0.793499</td>\n      <td>0.725631</td>\n      <td>0.403639</td>\n      <td>0.674186</td>\n    </tr>\n    <tr>\n      <th>51</th>\n      <td>51</td>\n      <td>4</td>\n      <td>10</td>\n      <td>15</td>\n      <td>0.406593</td>\n      <td>0.399600</td>\n      <td>0.390609</td>\n      <td>0.397602</td>\n      <td>102</td>\n      <td>95</td>\n      <td>117</td>\n      <td>119</td>\n      <td>0.650345</td>\n      <td>0.746402</td>\n      <td>1.241882</td>\n      <td>0.937480</td>\n      <td>0.398601</td>\n      <td>0.894027</td>\n    </tr>\n    <tr>\n      <th>26</th>\n      <td>26</td>\n      <td>3</td>\n      <td>10</td>\n      <td>15</td>\n      <td>0.406593</td>\n      <td>0.399600</td>\n      <td>0.390609</td>\n      <td>0.397602</td>\n      <td>102</td>\n      <td>95</td>\n      <td>117</td>\n      <td>119</td>\n      <td>0.650345</td>\n      <td>0.746402</td>\n      <td>1.241882</td>\n      <td>0.937480</td>\n      <td>0.398601</td>\n      <td>0.894027</td>\n    </tr>\n    <tr>\n      <th>76</th>\n      <td>76</td>\n      <td>5</td>\n      <td>10</td>\n      <td>15</td>\n      <td>0.406593</td>\n      <td>0.399600</td>\n      <td>0.390609</td>\n      <td>0.397602</td>\n      <td>102</td>\n      <td>95</td>\n      <td>117</td>\n      <td>119</td>\n      <td>0.650345</td>\n      <td>0.746402</td>\n      <td>1.241882</td>\n      <td>0.937480</td>\n      <td>0.398601</td>\n      <td>0.894027</td>\n    </tr>\n    <tr>\n      <th>1</th>\n      <td>1</td>\n      <td>2</td>\n      <td>10</td>\n      <td>15</td>\n      <td>0.396603</td>\n      <td>0.383616</td>\n      <td>0.385614</td>\n      <td>0.394605</td>\n      <td>103</td>\n      <td>104</td>\n      <td>112</td>\n      <td>117</td>\n      <td>0.640585</td>\n      <td>0.784429</td>\n      <td>1.173608</td>\n      <td>0.914777</td>\n      <td>0.390110</td>\n      <td>0.878350</td>\n    </tr>\n    <tr>\n      <th>55</th>\n      <td>55</td>\n      <td>4</td>\n      <td>15</td>\n      <td>10</td>\n      <td>0.386613</td>\n      <td>0.371628</td>\n      <td>0.377622</td>\n      <td>0.382617</td>\n      <td>139</td>\n      <td>141</td>\n      <td>177</td>\n      <td>165</td>\n      <td>0.842704</td>\n      <td>1.030270</td>\n      <td>1.816280</td>\n      <td>1.250878</td>\n      <td>0.379620</td>\n      <td>1.235033</td>\n    </tr>\n    <tr>\n      <th>30</th>\n      <td>30</td>\n      <td>3</td>\n      <td>15</td>\n      <td>10</td>\n      <td>0.386613</td>\n      <td>0.371628</td>\n      <td>0.377622</td>\n      <td>0.382617</td>\n      <td>139</td>\n      <td>141</td>\n      <td>177</td>\n      <td>165</td>\n      <td>0.842704</td>\n      <td>1.030270</td>\n      <td>1.816280</td>\n      <td>1.250878</td>\n      <td>0.379620</td>\n      <td>1.235033</td>\n    </tr>\n    <tr>\n      <th>80</th>\n      <td>80</td>\n      <td>5</td>\n      <td>15</td>\n      <td>10</td>\n      <td>0.386613</td>\n      <td>0.371628</td>\n      <td>0.377622</td>\n      <td>0.382617</td>\n      <td>139</td>\n      <td>141</td>\n      <td>177</td>\n      <td>165</td>\n      <td>0.842704</td>\n      <td>1.030270</td>\n      <td>1.816280</td>\n      <td>1.250878</td>\n      <td>0.379620</td>\n      <td>1.235033</td>\n    </tr>\n    <tr>\n      <th>50</th>\n      <td>50</td>\n      <td>4</td>\n      <td>10</td>\n      <td>10</td>\n      <td>0.373626</td>\n      <td>0.372627</td>\n      <td>0.374625</td>\n      <td>0.391608</td>\n      <td>167</td>\n      <td>179</td>\n      <td>171</td>\n      <td>177</td>\n      <td>0.978447</td>\n      <td>1.311448</td>\n      <td>1.740785</td>\n      <td>1.373383</td>\n      <td>0.378121</td>\n      <td>1.351015</td>\n    </tr>\n    <tr>\n      <th>85</th>\n      <td>85</td>\n      <td>5</td>\n      <td>20</td>\n      <td>10</td>\n      <td>0.384615</td>\n      <td>0.367632</td>\n      <td>0.375624</td>\n      <td>0.384615</td>\n      <td>150</td>\n      <td>160</td>\n      <td>152</td>\n      <td>175</td>\n      <td>0.904693</td>\n      <td>1.156530</td>\n      <td>1.551490</td>\n      <td>1.333617</td>\n      <td>0.378121</td>\n      <td>1.236582</td>\n    </tr>\n    <tr>\n      <th>75</th>\n      <td>75</td>\n      <td>5</td>\n      <td>10</td>\n      <td>10</td>\n      <td>0.373626</td>\n      <td>0.372627</td>\n      <td>0.374625</td>\n      <td>0.391608</td>\n      <td>167</td>\n      <td>179</td>\n      <td>171</td>\n      <td>177</td>\n      <td>0.978447</td>\n      <td>1.311448</td>\n      <td>1.740785</td>\n      <td>1.373383</td>\n      <td>0.378121</td>\n      <td>1.351015</td>\n    </tr>\n    <tr>\n      <th>60</th>\n      <td>60</td>\n      <td>4</td>\n      <td>20</td>\n      <td>10</td>\n      <td>0.384615</td>\n      <td>0.367632</td>\n      <td>0.375624</td>\n      <td>0.384615</td>\n      <td>150</td>\n      <td>160</td>\n      <td>152</td>\n      <td>175</td>\n      <td>0.904693</td>\n      <td>1.156530</td>\n      <td>1.551490</td>\n      <td>1.333617</td>\n      <td>0.378121</td>\n      <td>1.236582</td>\n    </tr>\n    <tr>\n      <th>35</th>\n      <td>35</td>\n      <td>3</td>\n      <td>20</td>\n      <td>10</td>\n      <td>0.384615</td>\n      <td>0.367632</td>\n      <td>0.375624</td>\n      <td>0.384615</td>\n      <td>150</td>\n      <td>160</td>\n      <td>152</td>\n      <td>175</td>\n      <td>0.904693</td>\n      <td>1.156530</td>\n      <td>1.551490</td>\n      <td>1.333617</td>\n      <td>0.378121</td>\n      <td>1.236582</td>\n    </tr>\n    <tr>\n      <th>25</th>\n      <td>25</td>\n      <td>3</td>\n      <td>10</td>\n      <td>10</td>\n      <td>0.373626</td>\n      <td>0.372627</td>\n      <td>0.374625</td>\n      <td>0.391608</td>\n      <td>167</td>\n      <td>179</td>\n      <td>171</td>\n      <td>177</td>\n      <td>0.978447</td>\n      <td>1.311448</td>\n      <td>1.740785</td>\n      <td>1.373383</td>\n      <td>0.378121</td>\n      <td>1.351015</td>\n    </tr>\n    <tr>\n      <th>5</th>\n      <td>5</td>\n      <td>2</td>\n      <td>15</td>\n      <td>10</td>\n      <td>0.385614</td>\n      <td>0.368631</td>\n      <td>0.373626</td>\n      <td>0.379620</td>\n      <td>127</td>\n      <td>146</td>\n      <td>165</td>\n      <td>170</td>\n      <td>0.767963</td>\n      <td>1.058201</td>\n      <td>1.675225</td>\n      <td>1.278688</td>\n      <td>0.376873</td>\n      <td>1.195019</td>\n    </tr>\n    <tr>\n      <th>0</th>\n      <td>0</td>\n      <td>2</td>\n      <td>10</td>\n      <td>10</td>\n      <td>0.382617</td>\n      <td>0.366633</td>\n      <td>0.379620</td>\n      <td>0.373626</td>\n      <td>151</td>\n      <td>154</td>\n      <td>175</td>\n      <td>193</td>\n      <td>0.905993</td>\n      <td>1.110135</td>\n      <td>1.805258</td>\n      <td>1.428766</td>\n      <td>0.375624</td>\n      <td>1.312538</td>\n    </tr>\n  </tbody>\n</table>\n</div>"
     },
     "execution_count": 56,
     "metadata": {},
     "output_type": "execute_result"
    }
   ],
   "source": [
    "columns_to_check = ['WTQ1', 'WTQ2', 'WTQ3', 'WTQ4']  # List the columns to check for values\n",
    "\n",
    "# Create a boolean mask to identify rows that meet the condition\n",
    "mask = result[columns_to_check] < 0.3\n",
    "\n",
    "# we Use the 'any' function along the rows axis (axis=1) to check if any WTQ column has a value lower than 0.3 (meaning a very low number of topics found in a certain period)\n",
    "rows_to_remove = mask.any(axis=1)\n",
    "\n",
    "# Remove rows that meet the condition\n",
    "table2 = result.loc[~rows_to_remove]\n",
    "\n",
    "# Output the filtered dataframe\n",
    "table2"
   ],
   "metadata": {
    "collapsed": false,
    "ExecuteTime": {
     "end_time": "2023-06-23T09:12:45.025182Z",
     "start_time": "2023-06-23T09:12:45.021249Z"
    }
   }
  },
  {
   "cell_type": "code",
   "execution_count": 57,
   "outputs": [
    {
     "data": {
      "text/plain": "    ID  UMAP Dim Size  UMAP n Neighbors  Partitioned Clustering Size  \\\n77  77              5                10                           20   \n52  52              4                10                           20   \n27  27              3                10                           20   \n41  41              3                50                           15   \n66  66              4                50                           15   \n\n              TQ1            TQ2            TQ3            TQ4  N1  N2  N3  \\\n77  0.423 ± 0.001  0.414 ± 0.001  0.389 ± 0.001  0.402 ± 0.001  80  66  82   \n52  0.423 ± 0.001  0.414 ± 0.001  0.389 ± 0.001  0.402 ± 0.001  80  66  82   \n27  0.423 ± 0.001  0.414 ± 0.001  0.389 ± 0.001  0.402 ± 0.001  80  66  82   \n41  0.410 ± 0.001  0.394 ± 0.001  0.395 ± 0.001  0.416 ± 0.001  76  89  74   \n66  0.410 ± 0.001  0.394 ± 0.001  0.395 ± 0.001  0.416 ± 0.001  76  89  74   \n\n    N4           WTQ1           WTQ2           WTQ3           WTQ4  \\\n77  91  0.530 ± 0.001  0.537 ± 0.001  0.866 ± 0.001  0.724 ± 0.001   \n52  91  0.530 ± 0.001  0.537 ± 0.001  0.866 ± 0.001  0.724 ± 0.001   \n27  91  0.530 ± 0.001  0.537 ± 0.001  0.866 ± 0.001  0.724 ± 0.001   \n41  88  0.489 ± 0.001  0.689 ± 0.001  0.793 ± 0.001  0.726 ± 0.001   \n66  88  0.489 ± 0.001  0.689 ± 0.001  0.793 ± 0.001  0.726 ± 0.001   \n\n          mean TQ       mean WTQ  \n77  0.407 ± 0.001  0.664 ± 0.001  \n52  0.407 ± 0.001  0.664 ± 0.001  \n27  0.407 ± 0.001  0.664 ± 0.001  \n41  0.404 ± 0.001  0.674 ± 0.001  \n66  0.404 ± 0.001  0.674 ± 0.001  ",
      "text/html": "<div>\n<style scoped>\n    .dataframe tbody tr th:only-of-type {\n        vertical-align: middle;\n    }\n\n    .dataframe tbody tr th {\n        vertical-align: top;\n    }\n\n    .dataframe thead th {\n        text-align: right;\n    }\n</style>\n<table border=\"1\" class=\"dataframe\">\n  <thead>\n    <tr style=\"text-align: right;\">\n      <th></th>\n      <th>ID</th>\n      <th>UMAP Dim Size</th>\n      <th>UMAP n Neighbors</th>\n      <th>Partitioned Clustering Size</th>\n      <th>TQ1</th>\n      <th>TQ2</th>\n      <th>TQ3</th>\n      <th>TQ4</th>\n      <th>N1</th>\n      <th>N2</th>\n      <th>N3</th>\n      <th>N4</th>\n      <th>WTQ1</th>\n      <th>WTQ2</th>\n      <th>WTQ3</th>\n      <th>WTQ4</th>\n      <th>mean TQ</th>\n      <th>mean WTQ</th>\n    </tr>\n  </thead>\n  <tbody>\n    <tr>\n      <th>77</th>\n      <td>77</td>\n      <td>5</td>\n      <td>10</td>\n      <td>20</td>\n      <td>0.423 ± 0.001</td>\n      <td>0.414 ± 0.001</td>\n      <td>0.389 ± 0.001</td>\n      <td>0.402 ± 0.001</td>\n      <td>80</td>\n      <td>66</td>\n      <td>82</td>\n      <td>91</td>\n      <td>0.530 ± 0.001</td>\n      <td>0.537 ± 0.001</td>\n      <td>0.866 ± 0.001</td>\n      <td>0.724 ± 0.001</td>\n      <td>0.407 ± 0.001</td>\n      <td>0.664 ± 0.001</td>\n    </tr>\n    <tr>\n      <th>52</th>\n      <td>52</td>\n      <td>4</td>\n      <td>10</td>\n      <td>20</td>\n      <td>0.423 ± 0.001</td>\n      <td>0.414 ± 0.001</td>\n      <td>0.389 ± 0.001</td>\n      <td>0.402 ± 0.001</td>\n      <td>80</td>\n      <td>66</td>\n      <td>82</td>\n      <td>91</td>\n      <td>0.530 ± 0.001</td>\n      <td>0.537 ± 0.001</td>\n      <td>0.866 ± 0.001</td>\n      <td>0.724 ± 0.001</td>\n      <td>0.407 ± 0.001</td>\n      <td>0.664 ± 0.001</td>\n    </tr>\n    <tr>\n      <th>27</th>\n      <td>27</td>\n      <td>3</td>\n      <td>10</td>\n      <td>20</td>\n      <td>0.423 ± 0.001</td>\n      <td>0.414 ± 0.001</td>\n      <td>0.389 ± 0.001</td>\n      <td>0.402 ± 0.001</td>\n      <td>80</td>\n      <td>66</td>\n      <td>82</td>\n      <td>91</td>\n      <td>0.530 ± 0.001</td>\n      <td>0.537 ± 0.001</td>\n      <td>0.866 ± 0.001</td>\n      <td>0.724 ± 0.001</td>\n      <td>0.407 ± 0.001</td>\n      <td>0.664 ± 0.001</td>\n    </tr>\n    <tr>\n      <th>41</th>\n      <td>41</td>\n      <td>3</td>\n      <td>50</td>\n      <td>15</td>\n      <td>0.410 ± 0.001</td>\n      <td>0.394 ± 0.001</td>\n      <td>0.395 ± 0.001</td>\n      <td>0.416 ± 0.001</td>\n      <td>76</td>\n      <td>89</td>\n      <td>74</td>\n      <td>88</td>\n      <td>0.489 ± 0.001</td>\n      <td>0.689 ± 0.001</td>\n      <td>0.793 ± 0.001</td>\n      <td>0.726 ± 0.001</td>\n      <td>0.404 ± 0.001</td>\n      <td>0.674 ± 0.001</td>\n    </tr>\n    <tr>\n      <th>66</th>\n      <td>66</td>\n      <td>4</td>\n      <td>50</td>\n      <td>15</td>\n      <td>0.410 ± 0.001</td>\n      <td>0.394 ± 0.001</td>\n      <td>0.395 ± 0.001</td>\n      <td>0.416 ± 0.001</td>\n      <td>76</td>\n      <td>89</td>\n      <td>74</td>\n      <td>88</td>\n      <td>0.489 ± 0.001</td>\n      <td>0.689 ± 0.001</td>\n      <td>0.793 ± 0.001</td>\n      <td>0.726 ± 0.001</td>\n      <td>0.404 ± 0.001</td>\n      <td>0.674 ± 0.001</td>\n    </tr>\n  </tbody>\n</table>\n</div>"
     },
     "execution_count": 57,
     "metadata": {},
     "output_type": "execute_result"
    }
   ],
   "source": [
    "import pandas as pd\n",
    "\n",
    "# Now we sort the filtered array by mean TQ\n",
    "table2 = table2.sort_values(by='mean TQ', ascending=False)\n",
    "table2 = table2.head(5)\n",
    "\n",
    "# Assuming your dataframe is named 'df'\n",
    "columns_to_process = ['TQ1', 'TQ2', 'TQ3', 'TQ4', 'WTQ1', 'WTQ2', 'WTQ3', 'WTQ4', 'mean TQ', 'mean WTQ']  # List the columns you want to process\n",
    "\n",
    "for column in columns_to_process:\n",
    "    table2[column] = table2[column].round(3)  # Keep only three decimal places\n",
    "    table2[column] = table2[column].apply(lambda x: f\"{x:.3f} ± 0.001\")  # Add ±0.001 error margin\n",
    "\n",
    "# Output the updated dataframe\n",
    "table2"
   ],
   "metadata": {
    "collapsed": false,
    "ExecuteTime": {
     "end_time": "2023-06-23T09:12:47.052637Z",
     "start_time": "2023-06-23T09:12:47.039967Z"
    }
   }
  },
  {
   "cell_type": "code",
   "execution_count": 46,
   "outputs": [],
   "source": [
    "table2.to_csv('table2.csv')"
   ],
   "metadata": {
    "collapsed": false,
    "ExecuteTime": {
     "end_time": "2023-06-23T08:24:28.730784Z",
     "start_time": "2023-06-23T08:24:28.726716Z"
    }
   }
  }
 ],
 "metadata": {
  "kernelspec": {
   "display_name": "Python 3",
   "language": "python",
   "name": "python3"
  },
  "language_info": {
   "codemirror_mode": {
    "name": "ipython",
    "version": 2
   },
   "file_extension": ".py",
   "mimetype": "text/x-python",
   "name": "python",
   "nbconvert_exporter": "python",
   "pygments_lexer": "ipython2",
   "version": "2.7.6"
  }
 },
 "nbformat": 4,
 "nbformat_minor": 0
}
